{
 "cells": [
  {
   "cell_type": "code",
   "execution_count": 1,
   "metadata": {},
   "outputs": [],
   "source": [
    "# Wanqi Zhu, June 2018\n",
    "import numpy as np\n",
    "import math\n",
    "import line_profiler\n",
    "%load_ext line_profiler\n",
    "import matplotlib.pyplot as plt\n"
   ]
  },
  {
   "cell_type": "markdown",
   "metadata": {},
   "source": [
    "First, we show an implementation of $L_p$-norm-sketch over an iterable of elements. Useful for testing correctness and when the data stream needs to be processed all at once.\n",
    "\n",
    "This uses numpy vectorization to speed up computation by a significant amount. Running over a large data stream is slow, but in most real life practices, we care about the time *per query*, which is very fast ($O(s_1s_2)$)\n",
    "\n",
    "In the code below, we store a $s_1 X s_2$ grid of elements with their respective counters. At the end, we take rowwise mean (axis=1) and columnwise median (axis=0) to find our final estimate.\n"
   ]
  },
  {
   "cell_type": "code",
   "execution_count": 2,
   "metadata": {},
   "outputs": [],
   "source": [
    "def lp_norm_sketch(A, k, n, _lambda, _epsilon):\n",
    "    # compute the number of counters we need\n",
    "    c1 = 23  # a constant that can be anything bigger than 4\n",
    "             # if we want to minimize s1*s2, we can find this constant by searching to make s2 ~= 1\n",
    "    s1 = math.ceil(c1*(k*n**(1-1/k)-1)/(_lambda**2))\n",
    "    s2 = math.ceil(2/c1/((1/2-1/c1)**2) *math.log(1/_epsilon))\n",
    "    #print(s1*s2)\n",
    "    \n",
    "    X = np.zeros((s2, s1))  # the random element we care about\n",
    "    r = np.zeros((s2, s1))  # stores the frequency count\n",
    "    \n",
    "    for cnt, a in enumerate(A):\n",
    "        # since we don't know m in advance, we\n",
    "        # update X and r as we go\n",
    "        # when we encounter the m-th element, we update w.p. 1/m\n",
    "        to_change = np.random.rand(s2, s1) < 1/(1+cnt)\n",
    "        X[to_change] = a\n",
    "        r[to_change] = 0  # reset counter as needed\n",
    "        r[X == a] += 1\n",
    "    \n",
    "    return np.median(np.mean((cnt+1)*(r**k - (r-1)**k), axis=1), axis=0)\n",
    "\n"
   ]
  },
  {
   "cell_type": "code",
   "execution_count": null,
   "metadata": {},
   "outputs": [],
   "source": []
  },
  {
   "cell_type": "code",
   "execution_count": 3,
   "metadata": {
    "scrolled": true
   },
   "outputs": [
    {
     "data": {
      "text/plain": [
       "array([11, 13,  7,  0, 40, 12, 34, 17,  6, 43, 38, 44, 37, 33,  1,  8, 38,\n",
       "       38, 35, 48,  4, 36, 26, 35, 11,  0, 47, 48, 24, 32,  5, 12, 32, 40,\n",
       "       41, 31, 47,  6, 48, 10, 10, 39,  9, 36,  8, 22,  2, 34, 11,  7, 17,\n",
       "       39, 42, 31, 10, 10, 40,  5,  3, 14,  6, 36, 42,  3, 17, 22, 36, 41,\n",
       "       37, 33, 45, 24, 48, 38, 24, 16, 34, 26,  6, 19,  5,  6,  4, 47, 44,\n",
       "       16, 45, 40, 29, 29, 27, 22, 24, 47, 37, 21, 31, 31, 27, 16,  9, 14,\n",
       "       19, 23, 38, 34, 36, 45, 45, 18,  9, 17, 22, 17, 34, 14,  2,  2, 28,\n",
       "       48, 34, 18, 22, 11, 39, 32,  2, 46, 43, 31, 38, 31, 27,  3, 43, 37,\n",
       "       48, 17,  8, 29, 31, 26,  3, 25,  0,  4, 42, 34, 39, 45, 36, 22, 33,\n",
       "       28, 17, 18, 43, 23,  2, 42, 21, 14, 47, 15,  6,  1, 45, 34, 40, 37,\n",
       "        4, 22, 26, 30, 49, 37,  0,  2, 12, 25, 47, 47,  3, 13, 49, 38, 45,\n",
       "       44,  0, 30, 31, 27, 28,  4, 47, 22, 44,  2,  6, 27, 17, 48, 30,  3,\n",
       "       34, 38, 30, 20, 47, 49, 29, 33, 45, 41, 36, 45, 26, 20, 47, 13, 22,\n",
       "       28,  9,  0, 37, 25, 12, 18, 10, 35, 21,  8, 42,  8, 28,  2,  8, 23,\n",
       "        4, 32,  1, 18,  6, 32, 22,  0, 39, 26, 12, 31, 42,  0, 38, 26, 31,\n",
       "       22, 19, 12, 43,  8, 46, 13, 46, 34,  8, 18, 21, 34, 17, 16, 32, 20,\n",
       "        0, 18, 24, 45, 43, 49, 22, 10,  2, 39,  6, 39, 15, 12, 37, 25, 39,\n",
       "        6, 47,  6, 41, 20, 19, 39, 26, 13,  0, 46, 35, 36, 23, 43, 14,  5,\n",
       "       18,  2,  6, 14, 27, 44, 40,  9,  6, 32, 29,  4, 28, 14, 35, 19, 20,\n",
       "       25, 44, 36, 45, 32, 27, 22, 40, 34, 12, 14, 11, 37, 16, 26,  7,  4,\n",
       "       40, 10,  1,  2, 14, 33, 43, 39, 45, 37, 22, 38, 22, 34, 38, 43, 49,\n",
       "       31, 42, 31,  6, 15, 17,  1, 45, 45, 44, 13, 26, 27, 13, 16, 31, 28,\n",
       "        2, 22,  4, 42, 47, 10, 26, 21,  9, 24,  7,  7, 40, 32,  7, 23, 47,\n",
       "       34, 31, 22, 33, 12, 40,  4,  8, 39, 13, 20,  4, 41, 17, 36, 30,  6,\n",
       "       21, 19,  7, 34, 32, 41, 37, 36, 25, 26, 46,  6, 41, 26, 39, 17,  4,\n",
       "       29, 13, 15, 15, 43, 47, 38,  5, 16, 44, 23, 17, 47, 16,  0, 25, 34,\n",
       "       48, 16, 13, 27,  7, 17, 29, 11, 10, 24, 18, 26, 13, 41, 43, 18, 49,\n",
       "       14, 21,  1,  9, 23, 34, 40, 22,  3, 48, 29, 21, 22, 30, 48, 16,  3,\n",
       "       32, 31, 34, 22, 34, 20, 33,  2, 34,  0, 14, 36, 21, 44,  8, 20,  3,\n",
       "       25, 38,  0, 37, 38, 34,  2, 12, 47, 28, 26, 30, 36,  0, 13, 22,  1,\n",
       "       24,  5, 44, 29,  1, 49, 36,  8, 29,  7, 26,  6,  4, 20, 27, 22,  3,\n",
       "       21,  4, 49, 24, 31, 32,  9,  9, 30, 41, 44, 38, 41, 14,  9, 19, 23,\n",
       "       29, 49, 30,  7, 12, 18,  8, 18, 49, 29, 30,  8, 26,  7, 29, 24, 22,\n",
       "       18, 24, 19, 20, 27, 45, 33, 40, 13, 16, 20,  7, 24, 46, 46, 45,  4,\n",
       "        9, 39, 49, 44, 27, 44, 11, 32, 24, 11, 31, 17, 14, 21, 24, 40, 17,\n",
       "       25, 11, 18, 47, 40, 36, 47, 49, 39, 32, 13, 16, 42, 12, 34, 34, 43,\n",
       "       28, 21, 15, 25, 21,  3, 42, 39, 29,  1, 34, 15, 29,  0, 44, 13, 30,\n",
       "        9, 26, 40, 16,  9, 33, 34, 28, 49, 43, 20, 13, 40, 10, 41, 11, 43,\n",
       "        3, 37, 21,  5, 17, 15, 30, 34, 19, 35, 27,  8, 43, 38, 34, 31,  3,\n",
       "       38, 46, 13,  4, 10, 20,  6, 11, 11, 38, 42, 11,  2, 27,  3, 49, 17,\n",
       "        0, 47,  1, 46, 12, 34, 22, 22,  6,  2, 42, 16, 34, 34,  8, 44, 32,\n",
       "       26, 15, 13, 40, 32, 47, 39, 26, 31, 28, 17, 29,  0, 12,  2, 16, 47,\n",
       "       40, 43,  0, 38, 15, 37, 38, 18, 32, 20,  9, 19, 39, 24, 43, 39, 34,\n",
       "       37, 36,  8,  0, 47, 38, 33, 45, 41,  2, 34, 24, 35, 44, 31, 29, 22,\n",
       "       47, 12,  4, 33, 21, 13, 32,  8, 49, 21, 22, 27,  0, 29, 26, 28, 40,\n",
       "       23, 44, 13, 32, 12,  1, 16, 20, 25, 18, 33, 16, 43, 40, 42, 18, 14,\n",
       "       40, 21, 46, 10, 24, 25,  3, 40, 40, 15, 40, 41, 33,  0, 45, 36, 28,\n",
       "        9,  9, 24, 18, 11,  4,  0, 37, 30,  0, 45, 15, 41, 20, 46,  0, 36,\n",
       "       23, 44, 22, 14, 22, 42, 43, 32, 12,  8, 17, 25, 49, 18, 47, 23, 39,\n",
       "        3, 41, 13, 34, 18,  9, 48, 24, 47, 21,  7, 11, 10, 31, 25, 23, 32,\n",
       "       41, 42, 38, 33, 27, 37, 39, 25,  9, 36, 41,  5, 15,  5, 43, 33, 45,\n",
       "        4, 42, 34,  4,  2, 27, 30, 16, 49, 46, 33, 23, 34, 48, 22, 23,  4,\n",
       "       39, 48, 32, 10,  4, 27, 14,  0, 26, 27, 24,  5, 11, 24, 19,  5, 34,\n",
       "       10, 36, 48, 10, 13, 17, 37, 12, 38, 38, 33,  6, 12, 38, 24, 48, 12,\n",
       "       14,  7, 21, 21, 22, 46, 44, 13, 49, 16,  6, 29, 45, 20,  7, 45, 43,\n",
       "        9, 10, 27, 38, 24, 10,  4, 17,  0,  2, 17, 39, 29, 46, 34, 17, 10,\n",
       "       16, 43, 31, 24, 29,  4, 23, 24,  8, 38, 48,  0,  6, 13, 39, 48, 33,\n",
       "       14, 19, 34, 47, 42,  6, 12, 28,  6, 20,  1, 18, 48, 46, 40, 34,  0,\n",
       "       15, 33, 36, 10, 40, 36, 41, 10,  8, 35,  8, 13, 13, 15])"
      ]
     },
     "execution_count": 3,
     "metadata": {},
     "output_type": "execute_result"
    }
   ],
   "source": [
    "# generating some arrays for testing\n",
    "n = 50\n",
    "m = 1000\n",
    "A = np.random.randint(n, size=(m, ))\n",
    "A\n"
   ]
  },
  {
   "cell_type": "code",
   "execution_count": 4,
   "metadata": {},
   "outputs": [
    {
     "data": {
      "text/plain": [
       "21432"
      ]
     },
     "execution_count": 4,
     "metadata": {},
     "output_type": "execute_result"
    }
   ],
   "source": [
    "# finds the true Lp-norm through brute force estimation\n",
    "# this is fast, but requires us knowing the full data stream in advance (linear space in size of data stream)\n",
    "uniq, cnts = np.unique(A, return_counts=True)\n",
    "k = 2\n",
    "np.sum(cnts**k)\n"
   ]
  },
  {
   "cell_type": "code",
   "execution_count": 5,
   "metadata": {},
   "outputs": [
    {
     "data": {
      "text/plain": [
       "[21333.939855096436,\n",
       " 21380.388394481753,\n",
       " 21418.301518509943,\n",
       " 21404.141992258577,\n",
       " 21292.32143447911,\n",
       " 21352.73100208423,\n",
       " 21372.051477156187,\n",
       " 21576.90144572733,\n",
       " 21508.684288880802,\n",
       " 21434.049029013797]"
      ]
     },
     "execution_count": 5,
     "metadata": {},
     "output_type": "execute_result"
    }
   ],
   "source": [
    "# testing. You should see the result to be similar to the true answer above\n",
    "[lp_norm_sketch(A, k, n, 0.1, 0.1) for i in range(10)]\n"
   ]
  },
  {
   "cell_type": "code",
   "execution_count": 6,
   "metadata": {},
   "outputs": [],
   "source": [
    "# we can run profiling to see which steps takes the longest. Turns out it's the random number generator!\n",
    "%lprun -f lp_norm_sketch lp_norm_sketch(A, k, n, 0.1, 0.1)\n"
   ]
  },
  {
   "cell_type": "markdown",
   "metadata": {},
   "source": [
    "Now, let's play with testing correctness on lambda epsilon bounds"
   ]
  },
  {
   "cell_type": "code",
   "execution_count": 7,
   "metadata": {},
   "outputs": [],
   "source": [
    "def test_lp_norm_correctness(A, k, n, _lambda, _epsilon, printOut=True):\n",
    "    uniq, cnts = np.unique(A, return_counts=True)\n",
    "    true = np.sum(cnts**k)\n",
    "    \n",
    "    estimate = lp_norm_sketch(A, k, n, 0.1, 0.1)\n",
    "    \n",
    "    if printOut:\n",
    "        print(\"\"\"Testing on array of length {} with parameters k={}, n={}, lambda={}, epsilon={}\\n\n",
    "True value: {:.2f} Estimate: {:.2f} Error range: ({:.2f}, {:.2f}) w.p. {:.2f}\\n\\nWITHIN RANGE? {}\\n\\n\"\"\"\n",
    "          .format(len(A), k, n, _lambda, _epsilon, true, estimate, (1-_lambda)*true, (1+_lambda)*true, 1-_epsilon,\n",
    "          abs(1 - estimate/true) < _lambda))\n",
    "    \n",
    "    return true, estimate, abs(1 - estimate/true) < _lambda\n",
    "\n"
   ]
  },
  {
   "cell_type": "code",
   "execution_count": 8,
   "metadata": {},
   "outputs": [
    {
     "name": "stdout",
     "output_type": "stream",
     "text": [
      "Testing on array of length 1000 with parameters k=2, n=50, lambda=0.2, epsilon=0.1\n",
      "\n",
      "True value: 21432.00 Estimate: 21614.68 Error range: (17145.60, 25718.40) w.p. 0.90\n",
      "\n",
      "WITHIN RANGE? True\n",
      "\n",
      "\n"
     ]
    },
    {
     "data": {
      "text/plain": [
       "(21432, 21614.682237734476, True)"
      ]
     },
     "execution_count": 8,
     "metadata": {},
     "output_type": "execute_result"
    }
   ],
   "source": [
    "test_lp_norm_correctness(A, k, n, 0.2, 0.1)\n"
   ]
  },
  {
   "cell_type": "code",
   "execution_count": null,
   "metadata": {},
   "outputs": [],
   "source": [
    "# This checks how many of our estimates are within the expected bound\n",
    "def run_random_tests(n, m, k, _lambda = 0.1, _epsilon = 0.1, trials=100):\n",
    "    true = []\n",
    "    estimate = []\n",
    "    correct = []\n",
    "    \n",
    "    for i in range(trials):\n",
    "        A = np.random.randint(n, size=(m, ))\n",
    "        t, e, c = test_lp_norm_correctness(A, k, n, _lambda, _epsilon, printOut=False)\n",
    "        true.append(t)\n",
    "        estimate.append(e)\n",
    "        correct.append(c)\n",
    "        \n",
    "    print(sum(correct)/trials, 1-_epsilon)\n",
    "    \n",
    "    return true, estimate, correct\n",
    "\n"
   ]
  },
  {
   "cell_type": "code",
   "execution_count": null,
   "metadata": {},
   "outputs": [],
   "source": [
    "run_random_tests(10, 50, 2, trials=10000)\n",
    "\n"
   ]
  },
  {
   "cell_type": "markdown",
   "metadata": {},
   "source": [
    "All of the above is useful only when we know the data stream ahead of time -- and the whole point of using sublinear space is that we don't! As such, the following implementation is more applicable.\n",
    "\n",
    "We can initialize a class and then call *see(value)* to process each element in the stream as it comes along, e.g. along a network router. Then anytime we want an estimate, we call *estimate()*.\n",
    "\n",
    "For further work, extending this class into an easily usable format, e.g. a module or command line interface, would be useful."
   ]
  },
  {
   "cell_type": "code",
   "execution_count": null,
   "metadata": {},
   "outputs": [],
   "source": [
    "class lp_norm_sketch():\n",
    "    def __init__(self, k, n, _lambda, _epsilon, stream=None):\n",
    "        \"\"\"\n",
    "            Optionally pass in a pre-existing stream or to sample elements from\n",
    "        \"\"\"\n",
    "        self.k = k\n",
    "        self.n = n\n",
    "        self.lambda = _lambda\n",
    "        self.epsilon = _epsilon\n",
    "        self.stream = stream\n",
    "        \n",
    "        self.s1 = math.ceil(8*k*n**(1-1/k)/(_lambda**2))\n",
    "        self.s2 = math.ceil(2*math.log(1/_epsilon))\n",
    "\n",
    "        self.X = np.zeros((s2, s1))  # the random element we care about\n",
    "        self.r = np.zeros((s2, s1))  # stores the frequency count\n",
    "        \n",
    "        self.m = 0\n",
    "        \n",
    "\n",
    "    def see(val=None):\n",
    "        \"\"\"processes the next element of the stream\"\"\"\n",
    "        if val is None:\n",
    "            if stream is None:\n",
    "                raise Exception(\"No stream or value provided\")\n",
    "            \n",
    "            val = next(stream)\n",
    "\n",
    "        self.m += 1\n",
    "\n",
    "        to_change = np.random.rand(self.s2, self.s1) < 1/m\n",
    "        self.X[to_change] = a\n",
    "        self.r[to_change] = 0  # reset counter as needed\n",
    "        self.r[X == a] += 1\n",
    "        \n",
    "        \n",
    "    def estimate():\n",
    "        return np.median(np.mean(self.m*(self.r**self.k - (self.r-1)**self.k), axis=1), axis=0)\n",
    "        "
   ]
  },
  {
   "cell_type": "markdown",
   "metadata": {},
   "source": [
    "For more testing and graphs of results, see [project.py](project.py).\n",
    "\n"
   ]
  },
  {
   "cell_type": "code",
   "execution_count": null,
   "metadata": {},
   "outputs": [],
   "source": []
  },
  {
   "cell_type": "code",
   "execution_count": null,
   "metadata": {},
   "outputs": [],
   "source": []
  },
  {
   "cell_type": "code",
   "execution_count": null,
   "metadata": {},
   "outputs": [],
   "source": []
  }
 ],
 "metadata": {
  "kernelspec": {
   "display_name": "Python 3",
   "language": "python",
   "name": "python3"
  },
  "language_info": {
   "codemirror_mode": {
    "name": "ipython",
    "version": 3
   },
   "file_extension": ".py",
   "mimetype": "text/x-python",
   "name": "python",
   "nbconvert_exporter": "python",
   "pygments_lexer": "ipython3",
   "version": "3.6.4"
  }
 },
 "nbformat": 4,
 "nbformat_minor": 2
}
