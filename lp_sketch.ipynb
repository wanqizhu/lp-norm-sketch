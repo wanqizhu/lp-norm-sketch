{
 "cells": [
  {
   "cell_type": "code",
   "execution_count": 5,
   "metadata": {},
   "outputs": [],
   "source": [
    "import numpy as np\n",
    "import math\n",
    "import line_profiler\n",
    "%load_ext line_profiler"
   ]
  },
  {
   "cell_type": "code",
   "execution_count": 68,
   "metadata": {},
   "outputs": [],
   "source": [
    "def lp_norm_sketch(A, k, n, _lambda, _epsilon):\n",
    "    # compute the number of counters we need\n",
    "    s1 = math.ceil(8*k*n**(1-1/k)/(_lambda**2))\n",
    "    s2 = math.ceil(2*math.log(1/_epsilon))\n",
    "    \n",
    "    X = np.zeros((s2, s1))  # the random element we care about\n",
    "    r = np.zeros((s2, s1))  # stores the frequency count\n",
    "    \n",
    "    for cnt, a in enumerate(A):\n",
    "        # since we don't know m in advance, we\n",
    "        # update X and r as we go\n",
    "        # when we encounter the m-th element, we update w.p. 1/m\n",
    "        to_change = np.random.rand(s2, s1) < 1/(1+cnt)\n",
    "        X[to_change] = a\n",
    "        r[to_change] = 0  # reset counter as needed\n",
    "        r[X == a] += 1\n",
    "    \n",
    "    return np.median(np.mean(cnt*(r**k - (r-1)**k), axis=1), axis=0)"
   ]
  },
  {
   "cell_type": "code",
   "execution_count": 65,
   "metadata": {},
   "outputs": [
    {
     "data": {
      "text/plain": [
       "array([[False, False, False],\n",
       "       [False, False, False],\n",
       "       [False, False, False],\n",
       "       [ True, False,  True],\n",
       "       [False, False, False]])"
      ]
     },
     "execution_count": 65,
     "metadata": {},
     "output_type": "execute_result"
    }
   ],
   "source": [
    "np.random.randint(5, size=(5,3)) == 0"
   ]
  },
  {
   "cell_type": "code",
   "execution_count": 24,
   "metadata": {},
   "outputs": [
    {
     "name": "stdout",
     "output_type": "stream",
     "text": [
      "(4, 10)\n",
      "(10,)\n"
     ]
    }
   ],
   "source": [
    "a = np.random.rand(4, 3, 10)\n",
    "print(np.sum(a, axis=1).shape)\n",
    "print(np.median(np.sum(a, axis=1), axis=0).shape)\n"
   ]
  },
  {
   "cell_type": "code",
   "execution_count": 54,
   "metadata": {},
   "outputs": [
    {
     "data": {
      "text/plain": [
       "array([17, 33, 36, ..., 41, 29, 42])"
      ]
     },
     "execution_count": 54,
     "metadata": {},
     "output_type": "execute_result"
    }
   ],
   "source": [
    "n = 50\n",
    "m = 10000\n",
    "A = np.random.randint(n, size=(m, ))\n",
    "A"
   ]
  },
  {
   "cell_type": "code",
   "execution_count": 35,
   "metadata": {},
   "outputs": [],
   "source": [
    "# A = np.arange(1000)"
   ]
  },
  {
   "cell_type": "code",
   "execution_count": 55,
   "metadata": {},
   "outputs": [
    {
     "data": {
      "text/plain": [
       "2009634"
      ]
     },
     "execution_count": 55,
     "metadata": {},
     "output_type": "execute_result"
    }
   ],
   "source": [
    "uniq, cnts = np.unique(A, return_counts=True)\n",
    "k = 2\n",
    "np.sum(cnts**k)"
   ]
  },
  {
   "cell_type": "code",
   "execution_count": 69,
   "metadata": {},
   "outputs": [],
   "source": [
    "%lprun -f lp_norm_sketch lp_norm_sketch(A, k, n, 0.1, 0.1)"
   ]
  },
  {
   "cell_type": "code",
   "execution_count": null,
   "metadata": {},
   "outputs": [],
   "source": []
  },
  {
   "cell_type": "code",
   "execution_count": 94,
   "metadata": {},
   "outputs": [],
   "source": [
    "def test_lp_norm_correctness(A, k, n, _lambda, _epsilon, printOut=True):\n",
    "    uniq, cnts = np.unique(A, return_counts=True)\n",
    "    true = np.sum(cnts**k)\n",
    "    \n",
    "    estimate = lp_norm_sketch(A, k, n, 0.1, 0.1)\n",
    "    \n",
    "    if printOut:\n",
    "        print(\"\"\"Testing on array of length {} with parameters k={}, n={}, lambda={}, epsilon={}\\n\n",
    "True value: {:.2f} Estimate: {:.2f} Error range: ({:.2f}, {:.2f}) w.p. {:.2f}\\n\\nWITHIN RANGE? {}\\n\\n\"\"\"\n",
    "          .format(len(A), k, n, _lambda, _epsilon, true, estimate, (1-_lambda)*true, (1+_lambda)*true, 1-_epsilon,\n",
    "          abs(1 - estimate/true) < _lambda))\n",
    "    \n",
    "    return true, estimate, abs(1 - estimate/true) < _lambda"
   ]
  },
  {
   "cell_type": "code",
   "execution_count": null,
   "metadata": {},
   "outputs": [],
   "source": []
  },
  {
   "cell_type": "code",
   "execution_count": 91,
   "metadata": {},
   "outputs": [
    {
     "name": "stdout",
     "output_type": "stream",
     "text": [
      "Testing on array of length 10000 with parameters k=2, n=50, lambda=0.2, epsilon=0.1\n",
      "True value: 2009634.00 Estimate: 2008766.75 Error range: (1607707.20, 2411560.80) w.p. 0.90\n",
      "\n",
      "WITHIN RANGE? True\n",
      "\n",
      "\n"
     ]
    },
    {
     "data": {
      "text/plain": [
       "(2009634, 2008766.7539331801)"
      ]
     },
     "execution_count": 91,
     "metadata": {},
     "output_type": "execute_result"
    }
   ],
   "source": [
    "test_lp_norm_correctness(A, k, n, 0.2, 0.1)"
   ]
  },
  {
   "cell_type": "code",
   "execution_count": 92,
   "metadata": {},
   "outputs": [],
   "source": [
    "def run_random_tests(n, m, k, _lambda = 0.1, _epsilon = 0.1, trials=100):\n",
    "    true = []\n",
    "    estimate = []\n",
    "    correct = []\n",
    "    \n",
    "    for i in range(trials):\n",
    "        A = np.random.randint(n, size=(m, ))\n",
    "        t, e, c = test_lp_norm_correctness(A, k, n, _lambda, _epsilon, printOut=False)\n",
    "        true.append(t)\n",
    "        estimate.append(e)\n",
    "        correct.append(c)\n",
    "        \n",
    "    print(sum(correct)/trials, 1-_epsilon)\n",
    "    \n",
    "    return true, estimate, correct"
   ]
  },
  {
   "cell_type": "code",
   "execution_count": 96,
   "metadata": {},
   "outputs": [
    {
     "name": "stdout",
     "output_type": "stream",
     "text": [
      "1.0 0.9\n"
     ]
    }
   ],
   "source": [
    "run_random_tests(10, 50, 2, trials=10000)"
   ]
  },
  {
   "cell_type": "code",
   "execution_count": null,
   "metadata": {},
   "outputs": [],
   "source": []
  },
  {
   "cell_type": "code",
   "execution_count": null,
   "metadata": {},
   "outputs": [],
   "source": []
  },
  {
   "cell_type": "code",
   "execution_count": null,
   "metadata": {},
   "outputs": [],
   "source": [
    "class lp_norm_sketch():\n",
    "    def __init__(self, k, n, _lambda, _epsilon, stream=None):\n",
    "        \"\"\"\n",
    "            Optionally pass in a pre-existing stream or to sample elements from\n",
    "        \"\"\"\n",
    "        self.k = k\n",
    "        self.n = n\n",
    "        self.lambda = _lambda\n",
    "        self.epsilon = _epsilon\n",
    "        self.stream = stream\n",
    "        \n",
    "        self.s1 = math.ceil(8*k*n**(1-1/k)/(_lambda**2))\n",
    "        self.s2 = math.ceil(2*math.log(1/_epsilon))\n",
    "\n",
    "        self.X = np.zeros((s2, s1))  # the random element we care about\n",
    "        self.r = np.zeros((s2, s1))  # stores the frequency count\n",
    "        \n",
    "        self.m = 0\n",
    "        \n",
    "\n",
    "    def see(val=None):\n",
    "        \"\"\"processes the next element of the stream\"\"\"\n",
    "        if val is None:\n",
    "            if stream is None:\n",
    "                raise Exception(\"No stream or value provided\")\n",
    "            \n",
    "            val = next(stream)\n",
    "\n",
    "        self.m += 1\n",
    "\n",
    "        to_change = np.random.rand(self.s2, self.s1) < 1/m\n",
    "        self.X[to_change] = a\n",
    "        self.r[to_change] = 0  # reset counter as needed\n",
    "        self.r[X == a] += 1\n",
    "        \n",
    "        \n",
    "    def estimate():\n",
    "        return np.median(np.mean(self.m*(self.r**self.k - (self.r-1)**self.k), axis=1), axis=0)\n",
    "        "
   ]
  },
  {
   "cell_type": "code",
   "execution_count": 73,
   "metadata": {},
   "outputs": [
    {
     "data": {
      "text/plain": [
       "3"
      ]
     },
     "execution_count": 73,
     "metadata": {},
     "output_type": "execute_result"
    }
   ],
   "source": []
  },
  {
   "cell_type": "code",
   "execution_count": null,
   "metadata": {},
   "outputs": [],
   "source": []
  }
 ],
 "metadata": {
  "kernelspec": {
   "display_name": "Python 3",
   "language": "python",
   "name": "python3"
  },
  "language_info": {
   "codemirror_mode": {
    "name": "ipython",
    "version": 3
   },
   "file_extension": ".py",
   "mimetype": "text/x-python",
   "name": "python",
   "nbconvert_exporter": "python",
   "pygments_lexer": "ipython3",
   "version": "3.6.4"
  }
 },
 "nbformat": 4,
 "nbformat_minor": 2
}
