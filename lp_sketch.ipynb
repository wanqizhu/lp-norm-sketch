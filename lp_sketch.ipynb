{
 "cells": [
  {
   "cell_type": "code",
   "execution_count": 9,
   "metadata": {},
   "outputs": [
    {
     "name": "stdout",
     "output_type": "stream",
     "text": [
      "The line_profiler extension is already loaded. To reload it, use:\n",
      "  %reload_ext line_profiler\n"
     ]
    }
   ],
   "source": [
    "import numpy as np\n",
    "import math\n",
    "import line_profiler\n",
    "%load_ext line_profiler\n",
    "import matplotlib.pyplot as plt"
   ]
  },
  {
   "cell_type": "code",
   "execution_count": 67,
   "metadata": {},
   "outputs": [],
   "source": [
    "def lp_norm_sketch(A, k, n, _lambda, _epsilon):\n",
    "    # compute the number of counters we need\n",
    "    c1 = 23\n",
    "    s1 = math.ceil(c1*(k*n**(1-1/k)-1)/(_lambda**2))\n",
    "    s2 = math.ceil(2/c1/((1/2-1/c1)**2) *math.log(1/_epsilon))\n",
    "    print(s1*s2)\n",
    "    \n",
    "    X = np.zeros((s2, s1))  # the random element we care about\n",
    "    r = np.zeros((s2, s1))  # stores the frequency count\n",
    "    \n",
    "    for cnt, a in enumerate(A):\n",
    "        # since we don't know m in advance, we\n",
    "        # update X and r as we go\n",
    "        # when we encounter the m-th element, we update w.p. 1/m\n",
    "        to_change = np.random.rand(s2, s1) < 1/(1+cnt)\n",
    "        X[to_change] = a\n",
    "        r[to_change] = 0  # reset counter as needed\n",
    "        r[X == a] += 1\n",
    "    \n",
    "    return np.median(np.mean((cnt+1)*(r**k - (r-1)**k), axis=1), axis=0)"
   ]
  },
  {
   "cell_type": "code",
   "execution_count": 14,
   "metadata": {},
   "outputs": [
    {
     "data": {
      "text/plain": [
       "array([[False, False,  True],\n",
       "       [ True,  True, False],\n",
       "       [False, False,  True],\n",
       "       [ True, False,  True],\n",
       "       [False, False, False]])"
      ]
     },
     "execution_count": 14,
     "metadata": {},
     "output_type": "execute_result"
    }
   ],
   "source": [
    "np.random.randint(5, size=(5,3)) == 0"
   ]
  },
  {
   "cell_type": "code",
   "execution_count": 15,
   "metadata": {},
   "outputs": [
    {
     "name": "stdout",
     "output_type": "stream",
     "text": [
      "(4, 10)\n",
      "(10,)\n"
     ]
    }
   ],
   "source": [
    "a = np.random.rand(4, 3, 10)\n",
    "print(np.sum(a, axis=1).shape)\n",
    "print(np.median(np.sum(a, axis=1), axis=0).shape)\n"
   ]
  },
  {
   "cell_type": "code",
   "execution_count": 65,
   "metadata": {},
   "outputs": [
    {
     "data": {
      "text/plain": [
       "array([37, 35, 23, ..., 13, 25, 48])"
      ]
     },
     "execution_count": 65,
     "metadata": {},
     "output_type": "execute_result"
    }
   ],
   "source": [
    "n = 50\n",
    "m = 10000\n",
    "A = np.random.randint(n, size=(m, ))\n",
    "A"
   ]
  },
  {
   "cell_type": "code",
   "execution_count": 21,
   "metadata": {},
   "outputs": [],
   "source": [
    "# A = np.arange(1000)"
   ]
  },
  {
   "cell_type": "code",
   "execution_count": 63,
   "metadata": {},
   "outputs": [
    {
     "data": {
      "text/plain": [
       "20754"
      ]
     },
     "execution_count": 63,
     "metadata": {},
     "output_type": "execute_result"
    }
   ],
   "source": [
    "uniq, cnts = np.unique(A, return_counts=True)\n",
    "k = 2\n",
    "np.sum(cnts**k)"
   ]
  },
  {
   "cell_type": "code",
   "execution_count": 8,
   "metadata": {},
   "outputs": [],
   "source": [
    "[20692.239703022802,   #c1=8\n",
    " 20796.888810323493,\n",
    " 20756.93830652289,\n",
    " 20749.690648753756,\n",
    " 20720.34647339579,\n",
    " 20882.269754286724,\n",
    " 20721.230334099346,\n",
    " 20739.79140887396,\n",
    " 20791.408873961464,\n",
    " 20805.550645218314]\n",
    "\n",
    "\n",
    "[20863.31355489286,   #c1=23 \"optimal\"\n",
    " 20660.097764933747,\n",
    " 20921.17317920497,\n",
    " 20859.931749008516,\n",
    " 20688.873858640512,\n",
    " 20667.90666215759,\n",
    " 20766.96283087896,\n",
    " 20757.247824883943,\n",
    " 20571.986349801704,\n",
    " 20826.236664924523]"
   ]
  },
  {
   "cell_type": "code",
   "execution_count": 64,
   "metadata": {},
   "outputs": [
    {
     "name": "stdout",
     "output_type": "stream",
     "text": [
      "32527\n",
      "32527\n",
      "32527\n",
      "32527\n",
      "32527\n",
      "32527\n",
      "32527\n",
      "32527\n",
      "32527\n",
      "32527\n"
     ]
    },
    {
     "data": {
      "text/plain": [
       "[20798.87478095121,\n",
       " 20754.54238017647,\n",
       " 20743.966550865436,\n",
       " 20688.8123712608,\n",
       " 20770.898023180744,\n",
       " 20776.30891259569,\n",
       " 20720.04796015618,\n",
       " 20837.673317551573,\n",
       " 20789.098287576475,\n",
       " 20702.647031696742]"
      ]
     },
     "execution_count": 64,
     "metadata": {},
     "output_type": "execute_result"
    }
   ],
   "source": [
    "[lp_norm_sketch(A, k, n, 0.1, 0.1) for i in range(10)]"
   ]
  },
  {
   "cell_type": "code",
   "execution_count": 68,
   "metadata": {},
   "outputs": [
    {
     "name": "stdout",
     "output_type": "stream",
     "text": [
      "30227\n"
     ]
    }
   ],
   "source": [
    "%lprun -f lp_norm_sketch lp_norm_sketch(A, k, n, 0.1, 0.1)"
   ]
  },
  {
   "cell_type": "code",
   "execution_count": 94,
   "metadata": {},
   "outputs": [],
   "source": [
    "def test_lp_norm_correctness(A, k, n, _lambda, _epsilon, printOut=True):\n",
    "    uniq, cnts = np.unique(A, return_counts=True)\n",
    "    true = np.sum(cnts**k)\n",
    "    \n",
    "    estimate = lp_norm_sketch(A, k, n, 0.1, 0.1)\n",
    "    \n",
    "    if printOut:\n",
    "        print(\"\"\"Testing on array of length {} with parameters k={}, n={}, lambda={}, epsilon={}\\n\n",
    "True value: {:.2f} Estimate: {:.2f} Error range: ({:.2f}, {:.2f}) w.p. {:.2f}\\n\\nWITHIN RANGE? {}\\n\\n\"\"\"\n",
    "          .format(len(A), k, n, _lambda, _epsilon, true, estimate, (1-_lambda)*true, (1+_lambda)*true, 1-_epsilon,\n",
    "          abs(1 - estimate/true) < _lambda))\n",
    "    \n",
    "    return true, estimate, abs(1 - estimate/true) < _lambda"
   ]
  },
  {
   "cell_type": "code",
   "execution_count": null,
   "metadata": {},
   "outputs": [],
   "source": []
  },
  {
   "cell_type": "code",
   "execution_count": 91,
   "metadata": {},
   "outputs": [
    {
     "name": "stdout",
     "output_type": "stream",
     "text": [
      "Testing on array of length 10000 with parameters k=2, n=50, lambda=0.2, epsilon=0.1\n",
      "True value: 2009634.00 Estimate: 2008766.75 Error range: (1607707.20, 2411560.80) w.p. 0.90\n",
      "\n",
      "WITHIN RANGE? True\n",
      "\n",
      "\n"
     ]
    },
    {
     "data": {
      "text/plain": [
       "(2009634, 2008766.7539331801)"
      ]
     },
     "execution_count": 91,
     "metadata": {},
     "output_type": "execute_result"
    }
   ],
   "source": [
    "test_lp_norm_correctness(A, k, n, 0.2, 0.1)"
   ]
  },
  {
   "cell_type": "code",
   "execution_count": 92,
   "metadata": {},
   "outputs": [],
   "source": [
    "def run_random_tests(n, m, k, _lambda = 0.1, _epsilon = 0.1, trials=100):\n",
    "    true = []\n",
    "    estimate = []\n",
    "    correct = []\n",
    "    \n",
    "    for i in range(trials):\n",
    "        A = np.random.randint(n, size=(m, ))\n",
    "        t, e, c = test_lp_norm_correctness(A, k, n, _lambda, _epsilon, printOut=False)\n",
    "        true.append(t)\n",
    "        estimate.append(e)\n",
    "        correct.append(c)\n",
    "        \n",
    "    print(sum(correct)/trials, 1-_epsilon)\n",
    "    \n",
    "    return true, estimate, correct"
   ]
  },
  {
   "cell_type": "code",
   "execution_count": 96,
   "metadata": {},
   "outputs": [
    {
     "name": "stdout",
     "output_type": "stream",
     "text": [
      "1.0 0.9\n"
     ]
    }
   ],
   "source": [
    "run_random_tests(10, 50, 2, trials=10000)"
   ]
  },
  {
   "cell_type": "code",
   "execution_count": null,
   "metadata": {},
   "outputs": [],
   "source": []
  },
  {
   "cell_type": "code",
   "execution_count": null,
   "metadata": {},
   "outputs": [],
   "source": []
  },
  {
   "cell_type": "code",
   "execution_count": null,
   "metadata": {},
   "outputs": [],
   "source": [
    "class lp_norm_sketch():\n",
    "    def __init__(self, k, n, _lambda, _epsilon, stream=None):\n",
    "        \"\"\"\n",
    "            Optionally pass in a pre-existing stream or to sample elements from\n",
    "        \"\"\"\n",
    "        self.k = k\n",
    "        self.n = n\n",
    "        self.lambda = _lambda\n",
    "        self.epsilon = _epsilon\n",
    "        self.stream = stream\n",
    "        \n",
    "        self.s1 = math.ceil(8*k*n**(1-1/k)/(_lambda**2))\n",
    "        self.s2 = math.ceil(2*math.log(1/_epsilon))\n",
    "\n",
    "        self.X = np.zeros((s2, s1))  # the random element we care about\n",
    "        self.r = np.zeros((s2, s1))  # stores the frequency count\n",
    "        \n",
    "        self.m = 0\n",
    "        \n",
    "\n",
    "    def see(val=None):\n",
    "        \"\"\"processes the next element of the stream\"\"\"\n",
    "        if val is None:\n",
    "            if stream is None:\n",
    "                raise Exception(\"No stream or value provided\")\n",
    "            \n",
    "            val = next(stream)\n",
    "\n",
    "        self.m += 1\n",
    "\n",
    "        to_change = np.random.rand(self.s2, self.s1) < 1/m\n",
    "        self.X[to_change] = a\n",
    "        self.r[to_change] = 0  # reset counter as needed\n",
    "        self.r[X == a] += 1\n",
    "        \n",
    "        \n",
    "    def estimate():\n",
    "        return np.median(np.mean(self.m*(self.r**self.k - (self.r-1)**self.k), axis=1), axis=0)\n",
    "        "
   ]
  },
  {
   "cell_type": "code",
   "execution_count": 60,
   "metadata": {},
   "outputs": [
    {
     "name": "stdout",
     "output_type": "stream",
     "text": [
      "107483\n",
      "77792\n",
      "59402\n",
      "59400\n",
      "56570\n",
      "50912\n",
      "42429\n",
      "46671\n",
      "50913\n",
      "36770\n",
      "39598\n",
      "42428\n",
      "45256\n",
      "48084\n",
      "50912\n",
      "53742\n",
      "56570\n",
      "59398\n",
      "62226\n",
      "32527\n",
      "23\n"
     ]
    }
   ],
   "source": [
    "_lambda = 0.1\n",
    "_epsilon = 0.1\n",
    "k = 2\n",
    "n = 50\n",
    "for c1 in range(4, 100):\n",
    "    s1 = math.ceil(c1*k*n**(1-1/k)/(_lambda**2))\n",
    "    s2 = math.ceil(2/c1/((1/2-1/c1)**2) *math.log(1/_epsilon))\n",
    "    print(s1*s2)\n",
    "    if s2 == 1: break\n",
    "        \n",
    "print(c1)"
   ]
  },
  {
   "cell_type": "code",
   "execution_count": 31,
   "metadata": {},
   "outputs": [
    {
     "data": {
      "image/png": "[encoded data removed]",
      "text/plain": [
       "<matplotlib.figure.Figure at 0x10dedfc88>"
      ]
     },
     "metadata": {},
     "output_type": "display_data"
    }
   ],
   "source": [
    "c1 = np.arange(3.0, 100.0, 0.05)\n",
    "c2 = 2/c1/((1/2-1/c1)**2)\n",
    "plt.plot(c1, c1*c2)\n",
    "plt.show()"
   ]
  },
  {
   "cell_type": "code",
   "execution_count": 70,
   "metadata": {},
   "outputs": [
    {
     "data": {
      "text/plain": [
       "array([1, 2, 3, 4])"
      ]
     },
     "execution_count": 70,
     "metadata": {},
     "output_type": "execute_result"
    }
   ],
   "source": [
    "ms = 1 + np.arange(m)\n",
    "\n",
    "tight = "
   ]
  },
  {
   "cell_type": "code",
   "execution_count": null,
   "metadata": {},
   "outputs": [],
   "source": []
  }
 ],
 "metadata": {
  "kernelspec": {
   "display_name": "Python 3",
   "language": "python",
   "name": "python3"
  },
  "language_info": {
   "codemirror_mode": {
    "name": "ipython",
    "version": 3
   },
   "file_extension": ".py",
   "mimetype": "text/x-python",
   "name": "python",
   "nbconvert_exporter": "python",
   "pygments_lexer": "ipython3",
   "version": "3.6.4"
  }
 },
 "nbformat": 4,
 "nbformat_minor": 2
}
